{
  "nbformat": 4,
  "nbformat_minor": 0,
  "metadata": {
    "colab": {
      "name": "MNIST",
      "version": "0.3.2",
      "provenance": [],
      "include_colab_link": true
    },
    "kernelspec": {
      "name": "python3",
      "display_name": "Python 3"
    }
  },
  "cells": [
    {
      "cell_type": "markdown",
      "metadata": {
        "id": "view-in-github",
        "colab_type": "text"
      },
      "source": [
        "[View in Colaboratory](https://colab.research.google.com/github/msrdinesh/MNIST_using_various_algorithms/blob/master/MNIST.ipynb)"
      ]
    },
    {
      "metadata": {
        "id": "QJNIgl8ru6Ji",
        "colab_type": "code",
        "colab": {}
      },
      "cell_type": "code",
      "source": [
        "#import the essential packages\n",
        "import numpy as np\n",
        "import matplotlib.pyplot as plt\n",
        "import keras\n",
        "from keras.datasets import mnist\n",
        "from keras.models import Sequential\n",
        "from keras.layers import Dense\n",
        "from keras.utils import to_categorical"
      ],
      "execution_count": 0,
      "outputs": []
    },
    {
      "metadata": {
        "id": "4LUWI9cNvPDl",
        "colab_type": "code",
        "colab": {}
      },
      "cell_type": "code",
      "source": [
        "#importing the data\n",
        "(X_train,Y_train),(X_test,Y_test)=mnist.load_data()\n",
        "\n",
        "\n"
      ],
      "execution_count": 0,
      "outputs": []
    },
    {
      "metadata": {
        "id": "taElngUmvYB6",
        "colab_type": "code",
        "colab": {
          "base_uri": "https://localhost:8080/",
          "height": 53
        },
        "outputId": "f6c0d237-74c0-4e52-d801-37527c56b8e8"
      },
      "cell_type": "code",
      "source": [
        "#examining the shapes of data\n",
        "print(np.shape(X_train[25]))\n",
        "np.size(Y_train)"
      ],
      "execution_count": 168,
      "outputs": [
        {
          "output_type": "stream",
          "text": [
            "(28, 28)\n"
          ],
          "name": "stdout"
        },
        {
          "output_type": "execute_result",
          "data": {
            "text/plain": [
              "60000"
            ]
          },
          "metadata": {
            "tags": []
          },
          "execution_count": 168
        }
      ]
    },
    {
      "metadata": {
        "id": "XPYbKBulMtmU",
        "colab_type": "code",
        "colab": {
          "base_uri": "https://localhost:8080/",
          "height": 365
        },
        "outputId": "6a4c7000-8d16-47b7-b5c8-d0b0b593b2c2"
      },
      "cell_type": "code",
      "source": [
        "#checking a train example\n",
        "plt.imshow(X_train[25])\n",
        "print('label',Y_train[25])"
      ],
      "execution_count": 171,
      "outputs": [
        {
          "output_type": "stream",
          "text": [
            "label 2\n"
          ],
          "name": "stdout"
        },
        {
          "output_type": "display_data",
          "data": {
            "image/png": "[encoded data removed]",
            "text/plain": [
              "<matplotlib.figure.Figure at 0x7f0919c68ac8>"
            ]
          },
          "metadata": {
            "tags": []
          }
        }
      ]
    },
    {
      "metadata": {
        "id": "nXgad7VcydrO",
        "colab_type": "code",
        "colab": {
          "base_uri": "https://localhost:8080/",
          "height": 365
        },
        "outputId": "6e4cd695-b600-4522-81c1-c2d854cc9a1e"
      },
      "cell_type": "code",
      "source": [
        "plt.imshow(X_test[25])\n",
        "print('label',Y_test[25])"
      ],
      "execution_count": 172,
      "outputs": [
        {
          "output_type": "stream",
          "text": [
            "label 0\n"
          ],
          "name": "stdout"
        },
        {
          "output_type": "display_data",
          "data": {
            "image/png": "[encoded data removed]",
            "text/plain": [
              "<matplotlib.figure.Figure at 0x7f0919caecc0>"
            ]
          },
          "metadata": {
            "tags": []
          }
        }
      ]
    },
    {
      "metadata": {
        "id": "HzWLXogZNT4D",
        "colab_type": "code",
        "colab": {
          "base_uri": "https://localhost:8080/",
          "height": 53
        },
        "outputId": "88fa5ac7-ed67-49e5-aca6-8658db2e58ae"
      },
      "cell_type": "code",
      "source": [
        "#one hot encoding\n",
        "Y_train_arr = to_categorical(Y_train)\n",
        "print(Y_train_arr[25])\n",
        "print(Y_train_arr.shape)"
      ],
      "execution_count": 180,
      "outputs": [
        {
          "output_type": "stream",
          "text": [
            "[0. 0. 1. 0. 0. 0. 0. 0. 0. 0.]\n",
            "(60000, 10)\n"
          ],
          "name": "stdout"
        }
      ]
    },
    {
      "metadata": {
        "id": "YdOt-80sOFFX",
        "colab_type": "code",
        "colab": {}
      },
      "cell_type": "code",
      "source": [
        "#reshaping the data\n",
        "X_train = X_train.reshape(X_train.shape[0],28*28)/255\n",
        "\n"
      ],
      "execution_count": 0,
      "outputs": []
    },
    {
      "metadata": {
        "id": "gwuuGOguRNRA",
        "colab_type": "code",
        "colab": {}
      },
      "cell_type": "code",
      "source": [
        "#neural network\n",
        "model = Sequential()\n",
        "model.add(Dense(50,activation='relu',input_shape=(28*28,)))\n",
        "model.add(Dense(25,activation='relu'))\n",
        "model.add(Dense(10,activation='softmax'))"
      ],
      "execution_count": 0,
      "outputs": []
    },
    {
      "metadata": {
        "id": "HbYLrYHESqxf",
        "colab_type": "code",
        "colab": {
          "base_uri": "https://localhost:8080/",
          "height": 413
        },
        "outputId": "cd54dc28-54c8-4aca-a3f0-1b7f80827711"
      },
      "cell_type": "code",
      "source": [
        "model.compile(optimizer='adam',loss='categorical_crossentropy',metrics=['accuracy'])\n",
        "model.fit(x=X_train,y=Y_train_arr,epochs=10,verbose=2,validation_split=0.3)"
      ],
      "execution_count": 184,
      "outputs": [
        {
          "output_type": "stream",
          "text": [
            "Train on 42000 samples, validate on 18000 samples\n",
            "Epoch 1/10\n",
            " - 3s - loss: 1.2398 - acc: 0.6100 - val_loss: 0.6932 - val_acc: 0.7950\n",
            "Epoch 2/10\n",
            " - 3s - loss: 0.5997 - acc: 0.8214 - val_loss: 0.5057 - val_acc: 0.8567\n",
            "Epoch 3/10\n",
            " - 3s - loss: 0.4696 - acc: 0.8660 - val_loss: 0.4244 - val_acc: 0.8812\n",
            "Epoch 4/10\n",
            " - 3s - loss: 0.4105 - acc: 0.8824 - val_loss: 0.3804 - val_acc: 0.8910\n",
            "Epoch 5/10\n",
            " - 3s - loss: 0.3775 - acc: 0.8928 - val_loss: 0.3593 - val_acc: 0.8946\n",
            "Epoch 6/10\n",
            " - 3s - loss: 0.3535 - acc: 0.8987 - val_loss: 0.3363 - val_acc: 0.9019\n",
            "Epoch 7/10\n",
            " - 3s - loss: 0.3352 - acc: 0.9044 - val_loss: 0.3226 - val_acc: 0.9077\n",
            "Epoch 8/10\n",
            " - 3s - loss: 0.3185 - acc: 0.9082 - val_loss: 0.3131 - val_acc: 0.9074\n",
            "Epoch 9/10\n",
            " - 3s - loss: 0.3043 - acc: 0.9132 - val_loss: 0.3009 - val_acc: 0.9126\n",
            "Epoch 10/10\n",
            " - 3s - loss: 0.2913 - acc: 0.9165 - val_loss: 0.2906 - val_acc: 0.9142\n"
          ],
          "name": "stdout"
        },
        {
          "output_type": "execute_result",
          "data": {
            "text/plain": [
              "<keras.callbacks.History at 0x7f0919f94908>"
            ]
          },
          "metadata": {
            "tags": []
          },
          "execution_count": 184
        }
      ]
    },
    {
      "metadata": {
        "id": "5qWElW4iigHJ",
        "colab_type": "code",
        "colab": {
          "base_uri": "https://localhost:8080/",
          "height": 251
        },
        "outputId": "0bc0fb72-4fd8-49b8-bd53-8d165d95238f"
      },
      "cell_type": "code",
      "source": [
        "model.summary()\n"
      ],
      "execution_count": 185,
      "outputs": [
        {
          "output_type": "stream",
          "text": [
            "_________________________________________________________________\n",
            "Layer (type)                 Output Shape              Param #   \n",
            "=================================================================\n",
            "dense_17 (Dense)             (None, 50)                39250     \n",
            "_________________________________________________________________\n",
            "dense_18 (Dense)             (None, 25)                1275      \n",
            "_________________________________________________________________\n",
            "dense_19 (Dense)             (None, 10)                260       \n",
            "=================================================================\n",
            "Total params: 40,785\n",
            "Trainable params: 40,785\n",
            "Non-trainable params: 0\n",
            "_________________________________________________________________\n"
          ],
          "name": "stdout"
        }
      ]
    },
    {
      "metadata": {
        "id": "nXyOdEdlz_NR",
        "colab_type": "code",
        "colab": {
          "base_uri": "https://localhost:8080/",
          "height": 35
        },
        "outputId": "f49ab802-0012-43cc-ebc0-e25770d348e8"
      },
      "cell_type": "code",
      "source": [
        "#testing a data from test set\n",
        "one_hot_predicted = model.predict(X_test[25].reshape(1,28*28))\n",
        "predicted = np.argmax(one_hot_predicted)\n",
        "print('predicted_label',predicted)"
      ],
      "execution_count": 195,
      "outputs": [
        {
          "output_type": "stream",
          "text": [
            "predicted_label 0\n"
          ],
          "name": "stdout"
        }
      ]
    },
    {
      "metadata": {
        "id": "uXR2L631klzd",
        "colab_type": "code",
        "colab": {}
      },
      "cell_type": "code",
      "source": [
        "#testing own image\n",
        "from PIL import Image\n",
        "im = Image.open('path_of_file')\n",
        "test=im.resize((28,28))\n"
      ],
      "execution_count": 0,
      "outputs": []
    },
    {
      "metadata": {
        "id": "t-EkosuIly5y",
        "colab_type": "code",
        "colab": {
          "base_uri": "https://localhost:8080/",
          "height": 365
        },
        "outputId": "887cd717-4aa5-4475-a21b-12bc42d90bae"
      },
      "cell_type": "code",
      "source": [
        "plt.imshow(test)\n",
        "test_array = np.array(test)\n",
        "print('array is of shape',test_array.shape)\n"
      ],
      "execution_count": 140,
      "outputs": [
        {
          "output_type": "stream",
          "text": [
            "array is of shape (28, 28, 4)\n"
          ],
          "name": "stdout"
        },
        {
          "output_type": "display_data",
          "data": {
            "image/png": "[encoded data removed]",
            "text/plain": [
              "<matplotlib.figure.Figure at 0x7f0919f81a90>"
            ]
          },
          "metadata": {
            "tags": []
          }
        }
      ]
    },
    {
      "metadata": {
        "id": "tfIMqO5smlSr",
        "colab_type": "code",
        "colab": {
          "base_uri": "https://localhost:8080/",
          "height": 365
        },
        "outputId": "19617a13-a42a-4905-c6a2-01b44ce73e59"
      },
      "cell_type": "code",
      "source": [
        "#taking a channel out of them\n",
        "test_array= test_array[:,:,3]\n",
        "plt.imshow(test_array)\n"
      ],
      "execution_count": 141,
      "outputs": [
        {
          "output_type": "execute_result",
          "data": {
            "text/plain": [
              "<matplotlib.image.AxesImage at 0x7f0919e9cf60>"
            ]
          },
          "metadata": {
            "tags": []
          },
          "execution_count": 141
        },
        {
          "output_type": "display_data",
          "data": {
            "image/png": "[encoded data removed]",
            "text/plain": [
              "<matplotlib.figure.Figure at 0x7f0919f3c080>"
            ]
          },
          "metadata": {
            "tags": []
          }
        }
      ]
    },
    {
      "metadata": {
        "id": "MSR2WOmzm1un",
        "colab_type": "code",
        "colab": {}
      },
      "cell_type": "code",
      "source": [
        "#reshape the image\n",
        "dinnu=test_array.reshape((1,28*28))"
      ],
      "execution_count": 0,
      "outputs": []
    },
    {
      "metadata": {
        "id": "UhcJqL-mnDaM",
        "colab_type": "code",
        "colab": {
          "base_uri": "https://localhost:8080/",
          "height": 35
        },
        "outputId": "bc170e0d-146c-40af-e035-fe446ffb0169"
      },
      "cell_type": "code",
      "source": [
        "one_hot_encoded = model.predict(dinnu)\n",
        "predict = np.argmax(one_hot_encoded)\n",
        "print('predicted_label',predict)\n"
      ],
      "execution_count": 198,
      "outputs": [
        {
          "output_type": "stream",
          "text": [
            "predicted_label 3\n"
          ],
          "name": "stdout"
        }
      ]
    },
    {
      "metadata": {
        "id": "m6XJB9fiuhRC",
        "colab_type": "code",
        "colab": {}
      },
      "cell_type": "code",
      "source": [
        ""
      ],
      "execution_count": 0,
      "outputs": []
    }
  ]
}